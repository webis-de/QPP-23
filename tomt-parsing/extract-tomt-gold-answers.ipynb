{
 "cells": [
  {
   "cell_type": "markdown",
   "id": "0cfdf962",
   "metadata": {},
   "source": [
    "# Extract TOMT solved and Gold Answers"
   ]
  },
  {
   "cell_type": "markdown",
   "id": "e5fa4a15",
   "metadata": {},
   "source": [
    "## Read Reddit-API dataset of TOMT-subreddit to Pandas dataframe"
   ]
  },
  {
   "cell_type": "code",
   "execution_count": null,
   "id": "c3693984",
   "metadata": {},
   "outputs": [],
   "source": [
    "import pandas as pd\n",
    "import json\n",
    "path = '/mnt/ceph/storage/data-in-progress/data-research/web-search/false-memories/reddit-tomt/tomt-dataset-03-12-2022/reddit-tomt-submissions-with-comments.jsonl.gz'\n"
   ]
  },
  {
   "cell_type": "code",
   "execution_count": null,
   "id": "917a4bfe",
   "metadata": {},
   "outputs": [],
   "source": [
    "import gzip\n",
    "with gzip.open(path, 'rt') as f:\n",
    "    d_all = []\n",
    "    for line in f:\n",
    "        obj = json.loads(line)\n",
    "        d_all.append(obj)\n",
    "df_orig = pd.DataFrame(d_all)"
   ]
  },
  {
   "cell_type": "code",
   "execution_count": null,
   "id": "16064944",
   "metadata": {},
   "outputs": [],
   "source": [
    "# Number of TOMT-Q&As\n",
    "len(df_orig)"
   ]
  },
  {
   "cell_type": "markdown",
   "id": "c54b389e",
   "metadata": {},
   "source": [
    "## Rename columns in order to adapt to Yahoo-Answers! data structure"
   ]
  },
  {
   "cell_type": "code",
   "execution_count": null,
   "id": "34f27cd5",
   "metadata": {},
   "outputs": [],
   "source": [
    "df_orig.rename(columns = {'selftext':'content'}, inplace = True)\n",
    "df_orig.rename(columns = {'title':'subject'}, inplace = True)"
   ]
  },
  {
   "cell_type": "code",
   "execution_count": null,
   "id": "1bb4280b",
   "metadata": {},
   "outputs": [],
   "source": [
    "# add attributes for solved_utc, chosen_answer and links_on_answer_path\n",
    "df_orig.insert(4, \"solved_utc\", \"\")\n",
    "df_orig.insert(8, \"chosen_answer\", \"\")\n",
    "df_orig.insert(9, \"links_on_answer_path\", \"\")"
   ]
  },
  {
   "cell_type": "markdown",
   "id": "c155cf46",
   "metadata": {},
   "source": [
    "## Gold Answer Extraction code"
   ]
  },
  {
   "cell_type": "code",
   "execution_count": null,
   "id": "f2c72d39",
   "metadata": {},
   "outputs": [],
   "source": [
    "import re\n",
    "links = []\n",
    "solved_dates = []"
   ]
  },
  {
   "cell_type": "code",
   "execution_count": null,
   "id": "cd4ebd31",
   "metadata": {},
   "outputs": [],
   "source": [
    "def get_links(comment):\n",
    "    text = str(comment['body'])\n",
    "    urls = re.findall('http[s]?://(?:[a-zA-Z]|[0-9]|[$-_@.&+]|[!*(),]|(?:%[0-9a-fA-F][0-9a-fA-F]))+', text)\n",
    "    links.extend(urls)"
   ]
  },
  {
   "cell_type": "code",
   "execution_count": null,
   "id": "3001c35d",
   "metadata": {},
   "outputs": [],
   "source": [
    "# returns true if comment meets our Gold Answer criteria\n",
    "def is_gold_answer(comment, author_q):\n",
    "    comments = comment['comments']\n",
    "    j = 0\n",
    "    for c in comments:\n",
    "        text_answ = c['body']\n",
    "        author_answ = c['author']\n",
    "        text_answ = str(text_answ).lower()\n",
    "        if \"yes\" in text_answ or \"thank\" in text_answ or \"solved\" in text_answ or \"amazing\" in text_answ:\n",
    "            if str(author_q) == str(author_answ):\n",
    "                solved_dates.append(comment['created_utc'])\n",
    "                return True\n",
    "        j += 1\n",
    "    return False"
   ]
  },
  {
   "cell_type": "code",
   "execution_count": null,
   "id": "fef3c7e5",
   "metadata": {},
   "outputs": [],
   "source": [
    "def find_gold_answer_rek(qa, author):      \n",
    "    comments = qa['comments']\n",
    "    for comment in comments:\n",
    "        if is_gold_answer(comment, author):\n",
    "            get_links(comment)\n",
    "            return comment['body']\n",
    "        child = find_gold_answer_rek(comment, author)\n",
    "        if child != None:\n",
    "            # gold answer is located in this comment path\n",
    "            get_links(comment)\n",
    "            return child\n",
    "    return None"
   ]
  },
  {
   "cell_type": "code",
   "execution_count": null,
   "id": "972c9b58",
   "metadata": {},
   "outputs": [],
   "source": [
    "def find_gold_answer(qa):\n",
    "    author = qa['author']\n",
    "    solved = qa['link_flair_text']\n",
    "    \n",
    "    \n",
    "    # neglect not-\"Solved\"-labeled questions\n",
    "    # alternative: only neglect \"Open\" questions\n",
    "    #if solved == 'Open':    \n",
    "    if solved != 'Solved' and solved != 'Solved!':\n",
    "        return None\n",
    "    if author == '[deleted]':\n",
    "        return None\n",
    "    \n",
    "    if qa['num_comments'] > 0:\n",
    "        comments = qa['comments']\n",
    "        for comment in comments:\n",
    "            if is_gold_answer(comment, author):\n",
    "                get_links(comment)\n",
    "                return comment['body']\n",
    "            child = find_gold_answer_rek(comment, author)\n",
    "            if child != None:\n",
    "                # gold answer is located in this comment path\n",
    "                get_links(comment)\n",
    "                return child\n",
    "    return None"
   ]
  },
  {
   "cell_type": "code",
   "execution_count": null,
   "id": "abadb2b0",
   "metadata": {},
   "outputs": [],
   "source": [
    "# unify Solved! and Solved labels to \"Solved\"\n",
    "df_orig['link_flair_text'] = df_orig['link_flair_text'].replace('Solved!', 'Solved')"
   ]
  },
  {
   "cell_type": "code",
   "execution_count": null,
   "id": "dd554d88",
   "metadata": {},
   "outputs": [],
   "source": [
    "# ensure that no question is left with \"Solved!\" label\n",
    "df_orig.loc[df_orig['link_flair_text'] == 'Solved!']"
   ]
  },
  {
   "cell_type": "code",
   "execution_count": null,
   "id": "c2278a32",
   "metadata": {},
   "outputs": [],
   "source": [
    "# iterate through TOMT subreddit questions and extract Gold Answers\n",
    "\n",
    "no_solved = 0\n",
    "no_unsolved = 0\n",
    "\n",
    "res = []\n",
    "for i in range(len(df_orig)):\n",
    "    links = []\n",
    "    solved_dates = []\n",
    "    line = df_orig.iloc[i]\n",
    "    gold_answer = find_gold_answer(line)\n",
    "    if gold_answer == None:\n",
    "        no_unsolved += 1\n",
    "        df_orig.at[i, 'chosen_answer'] = ''\n",
    "        df_orig.at[i, 'links_on_answer_path'] = []\n",
    "        df_orig.at[i, 'solved_utc'] = ''\n",
    "    else:\n",
    "        no_solved += 1\n",
    "        df_orig.at[i, 'chosen_answer'] = gold_answer\n",
    "        df_orig.at[i, 'links_on_answer_path'] = links\n",
    "        df_orig.at[i, 'solved_utc'] = solved_dates[0]\n",
    "print(no_solved) #513 484\n",
    "print(no_unsolved) #765 941"
   ]
  },
  {
   "cell_type": "code",
   "execution_count": null,
   "id": "efe59433",
   "metadata": {},
   "outputs": [],
   "source": [
    "df_orig[['created_utc', 'link_flair_text', 'solved_utc', 'title', 'content', 'chosen_answer', 'links_on_answer_path']]"
   ]
  },
  {
   "cell_type": "markdown",
   "id": "604e2075",
   "metadata": {},
   "source": [
    "## Write new reddit tomt dataset with chosen_answer, links_on_answer_path, solved_utc to file"
   ]
  },
  {
   "cell_type": "code",
   "execution_count": null,
   "id": "ed79d568",
   "metadata": {},
   "outputs": [],
   "source": [
    "#pathOut = '/mnt/ceph/storage/data-in-progress/data-research/web-search/false-memories/reddit-tomt/tomt-dataset-26-01-2023/reddit-tomt-submissions-with-comments.jsonl.gz'\n",
    "pathOut = '/mnt/ceph/storage/data-in-progress/data-research/web-search/false-memories/reddit-tomt/tomt-dataset-26-01-2023/reddit-tomt-submissions.jsonl.gz'"
   ]
  },
  {
   "cell_type": "code",
   "execution_count": null,
   "id": "1601d525",
   "metadata": {},
   "outputs": [],
   "source": [
    "import os\n",
    "import gzip\n",
    "\n",
    "if os.path.exists(pathOut):\n",
    "    os.remove(pathOut)"
   ]
  },
  {
   "cell_type": "markdown",
   "id": "2da21bde",
   "metadata": {},
   "source": [
    "### Write dataset"
   ]
  },
  {
   "cell_type": "code",
   "execution_count": null,
   "id": "e7bd1f5d",
   "metadata": {},
   "outputs": [],
   "source": [
    "with gzip.open(pathOut, 'wb') as f_out:\n",
    "    for _, l in tqdm(df_orig.iterrows()):\n",
    "        f_out.write((json.dumps(l.to_dict()) + '\\n').encode('utf8'))"
   ]
  }
 ],
 "metadata": {
  "kernelspec": {
   "display_name": "Python 3 (ipykernel)",
   "language": "python",
   "name": "python3"
  },
  "language_info": {
   "codemirror_mode": {
    "name": "ipython",
    "version": 3
   },
   "file_extension": ".py",
   "mimetype": "text/x-python",
   "name": "python",
   "nbconvert_exporter": "python",
   "pygments_lexer": "ipython3",
   "version": "3.7.13"
  }
 },
 "nbformat": 4,
 "nbformat_minor": 5
}
