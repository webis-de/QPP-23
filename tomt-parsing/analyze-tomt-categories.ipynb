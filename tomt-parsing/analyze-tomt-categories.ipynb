{
 "cells": [
  {
   "cell_type": "markdown",
   "id": "ee3f3767-81e9-423c-9321-9dcfd0213042",
   "metadata": {},
   "source": [
    "# Analyze TOMT Categories"
   ]
  },
  {
   "cell_type": "code",
   "execution_count": 1,
   "id": "a74cbb9c",
   "metadata": {},
   "outputs": [],
   "source": [
    "import pandas as pd\n",
    "from tqdm import tqdm\n",
    "import json\n",
    "path = '/mnt/ceph/storage/data-in-progress/data-research/web-search/false-memories/reddit-tomt/tomt-dataset-03-12-2022/reddit-tomt-submissions-with-comments.jsonl.gz'"
   ]
  },
  {
   "cell_type": "markdown",
   "id": "c97d6b04",
   "metadata": {},
   "source": [
    "## Read dataset"
   ]
  },
  {
   "cell_type": "code",
   "execution_count": 2,
   "id": "8e117a5c",
   "metadata": {},
   "outputs": [
    {
     "name": "stderr",
     "output_type": "stream",
     "text": [
      "1279425it [03:25, 6219.88it/s] \n"
     ]
    }
   ],
   "source": [
    "import gzip\n",
    "with gzip.open(path, 'rt') as f:\n",
    "    d_all = []\n",
    "    for line in tqdm(f):\n",
    "        obj = json.loads(line)\n",
    "        d_all.append(obj)\n",
    "df_orig = pd.DataFrame(d_all)"
   ]
  },
  {
   "cell_type": "code",
   "execution_count": 3,
   "id": "aecd0a58",
   "metadata": {},
   "outputs": [],
   "source": [
    "df_orig.rename(columns = {'selftext':'content'}, inplace = True)"
   ]
  },
  {
   "cell_type": "markdown",
   "id": "90c0ec84",
   "metadata": {},
   "source": [
    "## Check data"
   ]
  },
  {
   "cell_type": "code",
   "execution_count": 5,
   "id": "ab2bee57",
   "metadata": {},
   "outputs": [
    {
     "data": {
      "text/plain": [
       "1279425"
      ]
     },
     "execution_count": 5,
     "metadata": {},
     "output_type": "execute_result"
    }
   ],
   "source": [
    "len(df_orig)"
   ]
  },
  {
   "cell_type": "code",
   "execution_count": 11,
   "id": "b511a5e7",
   "metadata": {},
   "outputs": [
    {
     "data": {
      "text/html": [
       "<div>\n",
       "<style scoped>\n",
       "    .dataframe tbody tr th:only-of-type {\n",
       "        vertical-align: middle;\n",
       "    }\n",
       "\n",
       "    .dataframe tbody tr th {\n",
       "        vertical-align: top;\n",
       "    }\n",
       "\n",
       "    .dataframe thead th {\n",
       "        text-align: right;\n",
       "    }\n",
       "</style>\n",
       "<table border=\"1\" class=\"dataframe\">\n",
       "  <thead>\n",
       "    <tr style=\"text-align: right;\">\n",
       "      <th></th>\n",
       "      <th>created_utc</th>\n",
       "      <th>link_flair_text</th>\n",
       "      <th>title</th>\n",
       "      <th>content</th>\n",
       "    </tr>\n",
       "  </thead>\n",
       "  <tbody>\n",
       "    <tr>\n",
       "      <th>0</th>\n",
       "      <td>1409620809</td>\n",
       "      <td>None</td>\n",
       "      <td>[TOMT] song about a child by a young mother</td>\n",
       "      <td>It was a video posted a couple of months ago. ...</td>\n",
       "    </tr>\n",
       "    <tr>\n",
       "      <th>1</th>\n",
       "      <td>1409621706</td>\n",
       "      <td>Solved</td>\n",
       "      <td>[TOMT][BOOK] Book I read in 3rd grade</td>\n",
       "      <td>There was a book I read in third grade... here...</td>\n",
       "    </tr>\n",
       "    <tr>\n",
       "      <th>2</th>\n",
       "      <td>1409621747</td>\n",
       "      <td>None</td>\n",
       "      <td>[TOMT][music] looking for an album cover...</td>\n",
       "      <td>The cover has a dark circular face..could be a...</td>\n",
       "    </tr>\n",
       "    <tr>\n",
       "      <th>3</th>\n",
       "      <td>1409621789</td>\n",
       "      <td>Solved</td>\n",
       "      <td>[TOMT] [Song] Chill, repeats \"faded away\"</td>\n",
       "      <td>It's a chill song, laid back, kind of melancho...</td>\n",
       "    </tr>\n",
       "    <tr>\n",
       "      <th>4</th>\n",
       "      <td>1409621843</td>\n",
       "      <td>Open</td>\n",
       "      <td>[TOMT][Movie] Asian Mystery/Horror/Supernatura...</td>\n",
       "      <td>I have a really vague memory of it. I don't ev...</td>\n",
       "    </tr>\n",
       "    <tr>\n",
       "      <th>...</th>\n",
       "      <td>...</td>\n",
       "      <td>...</td>\n",
       "      <td>...</td>\n",
       "      <td>...</td>\n",
       "    </tr>\n",
       "    <tr>\n",
       "      <th>1279420</th>\n",
       "      <td>1646024478</td>\n",
       "      <td>Solved</td>\n",
       "      <td>[TOMT][SONG][1970s] Classic rock song</td>\n",
       "      <td>The guitar used at the beginning of [Caroline ...</td>\n",
       "    </tr>\n",
       "    <tr>\n",
       "      <th>1279421</th>\n",
       "      <td>1646024504</td>\n",
       "      <td>Open</td>\n",
       "      <td>[TOMT] Trying to remember a method to search f...</td>\n",
       "      <td>Hello guys. I'm trying to remember a method th...</td>\n",
       "    </tr>\n",
       "    <tr>\n",
       "      <th>1279422</th>\n",
       "      <td>1646025318</td>\n",
       "      <td>Solved</td>\n",
       "      <td>[TOMT] 2018~2019 Tiktok “Trend” w/ Blonde Girl...</td>\n",
       "      <td>back in 2018-2019ish when that one viral video...</td>\n",
       "    </tr>\n",
       "    <tr>\n",
       "      <th>1279423</th>\n",
       "      <td>1646025501</td>\n",
       "      <td>Open</td>\n",
       "      <td>[TOMT] Band similiar to disturbed, can only re...</td>\n",
       "      <td>I listened to this band years ago so I only re...</td>\n",
       "    </tr>\n",
       "    <tr>\n",
       "      <th>1279424</th>\n",
       "      <td>1646025527</td>\n",
       "      <td>Open</td>\n",
       "      <td>[TOMT] [PS4][GAME] that’s 2D and primarily dec...</td>\n",
       "      <td>From the trailer most of the game consisted of...</td>\n",
       "    </tr>\n",
       "  </tbody>\n",
       "</table>\n",
       "<p>1279425 rows × 4 columns</p>\n",
       "</div>"
      ],
      "text/plain": [
       "        created_utc link_flair_text  \\\n",
       "0        1409620809            None   \n",
       "1        1409621706          Solved   \n",
       "2        1409621747            None   \n",
       "3        1409621789          Solved   \n",
       "4        1409621843            Open   \n",
       "...             ...             ...   \n",
       "1279420  1646024478          Solved   \n",
       "1279421  1646024504            Open   \n",
       "1279422  1646025318          Solved   \n",
       "1279423  1646025501            Open   \n",
       "1279424  1646025527            Open   \n",
       "\n",
       "                                                     title  \\\n",
       "0              [TOMT] song about a child by a young mother   \n",
       "1                    [TOMT][BOOK] Book I read in 3rd grade   \n",
       "2              [TOMT][music] looking for an album cover...   \n",
       "3                [TOMT] [Song] Chill, repeats \"faded away\"   \n",
       "4        [TOMT][Movie] Asian Mystery/Horror/Supernatura...   \n",
       "...                                                    ...   \n",
       "1279420              [TOMT][SONG][1970s] Classic rock song   \n",
       "1279421  [TOMT] Trying to remember a method to search f...   \n",
       "1279422  [TOMT] 2018~2019 Tiktok “Trend” w/ Blonde Girl...   \n",
       "1279423  [TOMT] Band similiar to disturbed, can only re...   \n",
       "1279424  [TOMT] [PS4][GAME] that’s 2D and primarily dec...   \n",
       "\n",
       "                                                   content  \n",
       "0        It was a video posted a couple of months ago. ...  \n",
       "1        There was a book I read in third grade... here...  \n",
       "2        The cover has a dark circular face..could be a...  \n",
       "3        It's a chill song, laid back, kind of melancho...  \n",
       "4        I have a really vague memory of it. I don't ev...  \n",
       "...                                                    ...  \n",
       "1279420  The guitar used at the beginning of [Caroline ...  \n",
       "1279421  Hello guys. I'm trying to remember a method th...  \n",
       "1279422  back in 2018-2019ish when that one viral video...  \n",
       "1279423  I listened to this band years ago so I only re...  \n",
       "1279424  From the trailer most of the game consisted of...  \n",
       "\n",
       "[1279425 rows x 4 columns]"
      ]
     },
     "execution_count": 11,
     "metadata": {},
     "output_type": "execute_result"
    }
   ],
   "source": [
    "df_orig[['created_utc', 'link_flair_text', 'title', 'content']]"
   ]
  },
  {
   "cell_type": "markdown",
   "id": "c4ce4281",
   "metadata": {},
   "source": [
    "## Get Most Common Categories"
   ]
  },
  {
   "cell_type": "code",
   "execution_count": 12,
   "id": "b7d18ebe-f5c2-4679-8d52-2ceaa2445818",
   "metadata": {},
   "outputs": [],
   "source": [
    "categories = []"
   ]
  },
  {
   "cell_type": "code",
   "execution_count": 13,
   "id": "a2be9661",
   "metadata": {},
   "outputs": [],
   "source": [
    "import seaborn as sns\n",
    "import re"
   ]
  },
  {
   "cell_type": "code",
   "execution_count": 14,
   "id": "71cc85e7",
   "metadata": {},
   "outputs": [],
   "source": [
    "def extract_category(title):\n",
    "    ret = re.findall(r'\\[.*?\\]', title)\n",
    "    return [x.lower() for x in ret]"
   ]
  },
  {
   "cell_type": "code",
   "execution_count": 16,
   "id": "6c6c921a",
   "metadata": {},
   "outputs": [],
   "source": [
    "# Determine distribution across the categories\n",
    "tmp = [extract_category(i) for i in df_orig['title']]\n",
    "categories = {}\n",
    "for i in tmp:\n",
    "    for j in i:\n",
    "        k = j.lower()\n",
    "        if k in categories:\n",
    "            categories[k] = categories[k] + 1\n",
    "        else:\n",
    "            categories[k] = 1"
   ]
  },
  {
   "cell_type": "code",
   "execution_count": 34,
   "id": "b21e2f57",
   "metadata": {},
   "outputs": [],
   "source": [
    "from collections import OrderedDict\n",
    "import numpy as np\n",
    "\n",
    "keys = list(categories.keys())\n",
    "values = list(categories.values())\n",
    "sorted_value_index = np.argsort(values)[::-1][:len(keys)]\n",
    "categories_sort = {keys[i]: values[i] for i in sorted_value_index}"
   ]
  },
  {
   "cell_type": "code",
   "execution_count": 35,
   "id": "47fe952f",
   "metadata": {},
   "outputs": [],
   "source": [
    "from itertools import islice\n",
    "def take (n, iterable):\n",
    "    return list(islice(iterable, n))"
   ]
  },
  {
   "cell_type": "code",
   "execution_count": 36,
   "id": "4fe153c9",
   "metadata": {},
   "outputs": [
    {
     "data": {
      "text/plain": [
       "[('[tomt]', 1247315),\n",
       " ('[song]', 161385),\n",
       " ('[movie]', 158543),\n",
       " ('[video]', 67642),\n",
       " ('[music]', 47591),\n",
       " ('[book]', 47578),\n",
       " ('[2000s]', 38200),\n",
       " ('[game]', 32961)]"
      ]
     },
     "execution_count": 36,
     "metadata": {},
     "output_type": "execute_result"
    }
   ],
   "source": [
    "take(8, categories_sort.items())"
   ]
  },
  {
   "cell_type": "code",
   "execution_count": 40,
   "id": "974fa148",
   "metadata": {},
   "outputs": [
    {
     "data": {
      "text/plain": [
       "[('[song]', 161385),\n",
       " ('[movie]', 158543),\n",
       " ('[video]', 67642),\n",
       " ('[music]', 47591),\n",
       " ('[book]', 47578),\n",
       " ('[2000s]', 38200),\n",
       " ('[game]', 32961)]"
      ]
     },
     "execution_count": 40,
     "metadata": {},
     "output_type": "execute_result"
    }
   ],
   "source": [
    "# get top-100 categories\n",
    "n = 0\n",
    "top_100_categories = {}\n",
    "for i in categories_sort:\n",
    "    if n == 0:\n",
    "        n = n+1\n",
    "        continue\n",
    "    n = n+1\n",
    "    if(n > 100):\n",
    "        break\n",
    "    top_100_categories[i] = categories_sort[i]\n",
    "take(7, top_100_categories.items())"
   ]
  },
  {
   "cell_type": "code",
   "execution_count": 41,
   "id": "1a5f28b2",
   "metadata": {},
   "outputs": [
    {
     "data": {
      "image/png": "[encoded data removed]",
      "text/plain": [
       "<Figure size 432x288 with 1 Axes>"
      ]
     },
     "metadata": {
      "needs_background": "light"
     },
     "output_type": "display_data"
    }
   ],
   "source": [
    "# plot distribution of top-100 categories\n",
    "import matplotlib.pyplot as plt\n",
    "\n",
    "plt.bar(range(len(top_100_categories)), list(top_100_categories.values()), tick_label=list(top_100_categories.keys()))\n",
    "plt.show()"
   ]
  }
 ],
 "metadata": {
  "kernelspec": {
   "display_name": "Python 3 (ipykernel)",
   "language": "python",
   "name": "python3"
  },
  "language_info": {
   "codemirror_mode": {
    "name": "ipython",
    "version": 3
   },
   "file_extension": ".py",
   "mimetype": "text/x-python",
   "name": "python",
   "nbconvert_exporter": "python",
   "pygments_lexer": "ipython3",
   "version": "3.7.13"
  }
 },
 "nbformat": 4,
 "nbformat_minor": 5
}
