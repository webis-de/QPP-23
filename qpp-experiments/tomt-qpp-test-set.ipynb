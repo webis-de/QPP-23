{
 "cells": [
  {
   "cell_type": "code",
   "execution_count": 53,
   "id": "dd8c40bd-d08e-4677-b6a5-ad49f5be9d4e",
   "metadata": {},
   "outputs": [
    {
     "name": "stderr",
     "output_type": "stream",
     "text": [
      "1279425it [06:02, 3534.19it/s]\n"
     ]
    }
   ],
   "source": [
    "import gzip\n",
    "from tqdm import tqdm\n",
    "import json\n",
    "from random import shuffle\n",
    "\n",
    "ret = {\n",
    "    '[music] ': [],\n",
    "    '[movie] ': [],\n",
    "    '[book] ': [],\n",
    "    '[game] ': [],\n",
    "}\n",
    "\n",
    "with gzip.open('/mnt/ceph/storage/data-in-progress/data-research/web-search/false-memories/reddit-tomt/tomt-dataset-26-01-2023/reddit-tomt-submissions.jsonl.gz', 'r') as input_file:\n",
    "    for l in tqdm(input_file):\n",
    "        l = json.loads(l)\n",
    "        for k in ret.keys():\n",
    "            if k in l['title'].lower():\n",
    "                ret[k] += [l]\n"
   ]
  },
  {
   "cell_type": "code",
   "execution_count": 19,
   "id": "04a513f3-bd51-49e3-8105-a63bd9e3c4d6",
   "metadata": {},
   "outputs": [
    {
     "name": "stdout",
     "output_type": "stream",
     "text": [
      "10000\n",
      "10000\n",
      "10000\n",
      "10000\n"
     ]
    }
   ],
   "source": [
    "for k in ret.keys():\n",
    "    entries = [i for i in ret[k]]\n",
    "    shuffle(entries)\n",
    "    entries = entries[:10000]\n",
    "    \n",
    "    print(len(entries))\n",
    "    ret[k] = {\n",
    "        #'test': entries[:100],\n",
    "        #'validation': entries[100:200],\n",
    "        'training': entries[200:],\n",
    "    }"
   ]
  },
  {
   "cell_type": "code",
   "execution_count": 36,
   "id": "d1eb01f4-3f20-48c8-8f79-f1bc94dfdaf6",
   "metadata": {},
   "outputs": [],
   "source": [
    "def transform(i):\n",
    "    try:\n",
    "        text = (i['title'].split(']')[-1].strip()) + ' ' + i['content'].strip()\n",
    "        time_to_solve = None if not i['solved_utc'] else int(i['solved_utc']) - int(i['created_utc'])\n",
    "    \n",
    "        return {'text': text, 'time_to_solve': time_to_solve}\n",
    "    except:\n",
    "        return None"
   ]
  },
  {
   "cell_type": "code",
   "execution_count": 50,
   "id": "da9f1f22-321c-431e-969d-edda20e1fa6c",
   "metadata": {},
   "outputs": [],
   "source": [
    "qid = 1\n",
    "for data_set in ['music', 'movie', 'book', 'game']:\n",
    "    for data_type in ['training']:\n",
    "        with open(f'/mnt/ceph/storage/data-in-progress/data-research/web-search/false-memories/reddit-tomt/tomt-dataset-26-01-2023//qpp-sample/{data_set}-{data_type}.jsonl', 'w') as outp_f:\n",
    "            for l in ret[f'[{data_set}] '][data_type]:\n",
    "                l = transform(l)\n",
    "                if not l:\n",
    "                    continue\n",
    "                l['qid'] = qid\n",
    "                qid += 1\n",
    "                outp_f.write(json.dumps(l) + '\\n')\n"
   ]
  },
  {
   "cell_type": "code",
   "execution_count": 52,
   "id": "bfd5f30c-b571-47a6-8779-2dce3189487d",
   "metadata": {},
   "outputs": [
    {
     "data": {
      "text/plain": [
       "127"
      ]
     },
     "execution_count": 52,
     "metadata": {},
     "output_type": "execute_result"
    }
   ],
   "source": [
    "len(ret[f'[movie] ']['training'])"
   ]
  },
  {
   "cell_type": "code",
   "execution_count": 46,
   "id": "7e575083-4cd3-4e2a-b539-2c0741a5117e",
   "metadata": {},
   "outputs": [],
   "source": [
    "\n",
    "\n",
    "all_test = ret['[music] ']['test'][:25] + ret['[movie] ']['test'][:25] + ret['[book] ']['test'][:25] + ret['[game] ']['test'][:25]"
   ]
  },
  {
   "cell_type": "code",
   "execution_count": 49,
   "id": "7b6b7dc8-78e5-46de-8511-03e10549200f",
   "metadata": {},
   "outputs": [],
   "source": [
    "!sync"
   ]
  },
  {
   "cell_type": "code",
   "execution_count": 48,
   "id": "524fc39a-c020-4e3e-bf9c-620530432867",
   "metadata": {},
   "outputs": [],
   "source": [
    "with open(f'/mnt/ceph/storage/data-in-progress/data-research/web-search/false-memories/reddit-tomt/tomt-dataset-26-01-2023//qpp-sample/all-categories-test.jsonl', 'w') as outp_f:\n",
    "    for l in all_test:\n",
    "        l = transform(l)\n",
    "        if not l:\n",
    "            continue\n",
    "        l['qid'] = qid\n",
    "        qid += 1\n",
    "        outp_f.write(json.dumps(l) + '\\n')\n"
   ]
  },
  {
   "cell_type": "markdown",
   "id": "4d70d4b2-da61-4124-aece-d4f5f4e49f25",
   "metadata": {},
   "source": [
    "# Create query file"
   ]
  },
  {
   "cell_type": "code",
   "execution_count": 44,
   "id": "a5783510-83b8-47e0-8724-89836b4d4739",
   "metadata": {},
   "outputs": [],
   "source": [
    "directory = '/mnt/ceph/storage/data-in-progress/data-research/web-search/false-memories/reddit-tomt/tomt-dataset-26-01-2023//qpp-sample/'\n",
    "\n",
    "with open(f'{directory}/qpptk-queries', 'w') as output_file:\n",
    "    for data_set in ['music', 'movie', 'book', 'game']:\n",
    "        with open(f'{directory}{data_set}-test.jsonl', 'r') as input_file:\n",
    "            for l in input_file:\n",
    "                l = json.loads(l)\n",
    "                output_file.write(str(l['qid']) + ' ' + (' '.join(l['text'].split())).strip() + '\\n')\n",
    "        "
   ]
  }
 ],
 "metadata": {
  "kernelspec": {
   "display_name": "Python 3",
   "language": "python",
   "name": "python3"
  },
  "language_info": {
   "codemirror_mode": {
    "name": "ipython",
    "version": 3
   },
   "file_extension": ".py",
   "mimetype": "text/x-python",
   "name": "python",
   "nbconvert_exporter": "python",
   "pygments_lexer": "ipython3",
   "version": "3.8.13"
  }
 },
 "nbformat": 4,
 "nbformat_minor": 5
}
