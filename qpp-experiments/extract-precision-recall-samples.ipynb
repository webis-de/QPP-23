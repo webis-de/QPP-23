{
 "cells": [
  {
   "cell_type": "markdown",
   "id": "f71464e1",
   "metadata": {},
   "source": [
    "# Extract random samples for precision and recall experiments"
   ]
  },
  {
   "cell_type": "code",
   "execution_count": 2,
   "id": "0790cb21",
   "metadata": {},
   "outputs": [],
   "source": [
    "import pandas as pd\n",
    "from tqdm import tqdm\n",
    "import json\n",
    "pathIn = '/mnt/ceph/storage/data-in-progress/data-research/web-search/false-memories/reddit-tomt/tomt-dataset-26-01-2023/reddit-tomt-submissions.jsonl.gz'"
   ]
  },
  {
   "cell_type": "markdown",
   "id": "d026e74e",
   "metadata": {},
   "source": [
    "## Read dataset"
   ]
  },
  {
   "cell_type": "code",
   "execution_count": null,
   "id": "ba2e5b16",
   "metadata": {},
   "outputs": [
    {
     "name": "stderr",
     "output_type": "stream",
     "text": [
      "1279425it [04:12, 5066.19it/s]\n"
     ]
    }
   ],
   "source": [
    "import gzip\n",
    "with gzip.open(pathIn, 'rt') as f:\n",
    "    d_all = []\n",
    "    # Iterate through the lines in the file\n",
    "    for line in tqdm(f):\n",
    "        # Parse the line as a JSON object\n",
    "        obj = json.loads(line)\n",
    "        d_all.append(obj)\n",
    "df_orig = pd.DataFrame(d_all)"
   ]
  },
  {
   "cell_type": "markdown",
   "id": "74b62a47",
   "metadata": {},
   "source": [
    "## Check data"
   ]
  },
  {
   "cell_type": "code",
   "execution_count": null,
   "id": "2915e010",
   "metadata": {},
   "outputs": [],
   "source": [
    "len(df_orig)"
   ]
  },
  {
   "cell_type": "code",
   "execution_count": null,
   "id": "6d65d231",
   "metadata": {},
   "outputs": [],
   "source": [
    "# check if \"Solved!\"-flag has been successfully eliminated\n",
    "assert(len(df_orig.loc[df_orig['link_flair_text'] == 'Solved!']) == 0)"
   ]
  },
  {
   "cell_type": "code",
   "execution_count": null,
   "id": "2ad0be6a",
   "metadata": {},
   "outputs": [],
   "source": [
    "df_orig[['created_utc', 'link_flair_text', 'solved_utc', 'title', 'content', 'chosen_answer', 'links_on_answer_path']]"
   ]
  },
  {
   "cell_type": "markdown",
   "id": "564d3d92",
   "metadata": {},
   "source": [
    "## Investigate Precision and recall\n",
    "- extract 50 random questions and 50 random questions with extracted gold answer"
   ]
  },
  {
   "cell_type": "code",
   "execution_count": null,
   "id": "560edae5",
   "metadata": {},
   "outputs": [],
   "source": [
    "df_recall = df_orig.sample(n = 50, random_state = 2)\n",
    "df_recall"
   ]
  },
  {
   "cell_type": "code",
   "execution_count": null,
   "id": "fbe81ed6",
   "metadata": {},
   "outputs": [],
   "source": [
    "df_precision = df_orig.loc[df_orig['chosen_answer'] != ''].sample(n = 50, random_state = 2)\n",
    "df_precision"
   ]
  },
  {
   "cell_type": "code",
   "execution_count": null,
   "id": "45fd67c1",
   "metadata": {},
   "outputs": [],
   "source": [
    "filename = 'sample-data/recall-sample.csv'\n",
    "df_recall.to_csv(filename, index=False)\n",
    "\n",
    "filename = 'sample-data/precision-sample.csv'\n",
    "df_precision.to_csv(filename, index=False)"
   ]
  }
 ],
 "metadata": {
  "kernelspec": {
   "display_name": "Python 3 (ipykernel)",
   "language": "python",
   "name": "python3"
  },
  "language_info": {
   "codemirror_mode": {
    "name": "ipython",
    "version": 3
   },
   "file_extension": ".py",
   "mimetype": "text/x-python",
   "name": "python",
   "nbconvert_exporter": "python",
   "pygments_lexer": "ipython3",
   "version": "3.7.13"
  }
 },
 "nbformat": 4,
 "nbformat_minor": 5
}
