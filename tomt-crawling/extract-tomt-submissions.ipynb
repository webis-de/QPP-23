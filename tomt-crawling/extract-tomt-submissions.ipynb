{
 "cells": [
  {
   "cell_type": "markdown",
   "id": "cea403b6-8c6c-46ad-a997-7edc0b57a1f4",
   "metadata": {},
   "source": [
    "# Extract TOMT Submissions"
   ]
  },
  {
   "cell_type": "code",
   "execution_count": 1,
   "id": "225fb4a3-d369-4155-b60b-bc3e3890375a",
   "metadata": {},
   "outputs": [
    {
     "data": {
      "text/html": [
       "\n",
       "        <div>\n",
       "            <p><b>SparkContext</b></p>\n",
       "\n",
       "            <p><a href=\"http://10.23.18.206:4040\">Spark UI</a></p>\n",
       "\n",
       "            <dl>\n",
       "              <dt>Version</dt>\n",
       "                <dd><code>v3.2.1</code></dd>\n",
       "              <dt>Master</dt>\n",
       "                <dd><code>yarn</code></dd>\n",
       "              <dt>AppName</dt>\n",
       "                <dd><code>reddit-tomt</code></dd>\n",
       "            </dl>\n",
       "        </div>\n",
       "        "
      ],
      "text/plain": [
       "<SparkContext master=yarn appName=reddit-tomt>"
      ]
     },
     "execution_count": 1,
     "metadata": {},
     "output_type": "execute_result"
    }
   ],
   "source": [
    "from pyspark import SparkConf, SparkContext\n",
    "from glob import glob\n",
    "import sys\n",
    "import json\n",
    "import io\n",
    "from tqdm import tqdm\n",
    "import bz2\n",
    "\n",
    "REDDIT_SUBMISSION_DIR = '/mnt/ceph/storage/corpora/corpora-thirdparty/corpus-reddit-submissions/'\n",
    "DATA_DIR = '/mnt/ceph/storage/data-in-progress/data-research/web-search/false-memories/'\n",
    "SUBREDDIT = 'tipofmytongue'\n",
    "\n",
    "conf=SparkConf()\n",
    "conf.setAll([(\"spark.executor.memory\", '20g'), (\"spark.driver.memory\", '20g')])\n",
    "sc = SparkContext(master=\"yarn\",appName=\"reddit-tomt\",conf=conf)\n",
    "sc"
   ]
  },
  {
   "cell_type": "code",
   "execution_count": 9,
   "id": "eb3fc7dc-1b07-48a4-b617-29e0ec104b41",
   "metadata": {},
   "outputs": [],
   "source": [
    "def load_zstd_tomt_entries_from_file(file_name):\n",
    "    zstandard_lib_path = f'{DATA_DIR}reddit-tomt/virtual-env/lib/python3.8/site-packages/'\n",
    "    if zstandard_lib_path not in sys.path:\n",
    "        sys.path.insert(0, zstandard_lib_path)\n",
    "    import zstandard\n",
    "\n",
    "    with open(file_name,\"rb\") as inf:\n",
    "        dctx = zstandard.ZstdDecompressor(max_window_size=2147483648)\n",
    "        stream_reader = dctx.stream_reader(inf, read_size=16384)\n",
    "        text_stream = io.TextIOWrapper(stream_reader, encoding='utf-8')\n",
    "        for idx, line in enumerate(tqdm(text_stream)):\n",
    "            try:\n",
    "                record = json.loads(line)\n",
    "                if record['subreddit'].lower() == SUBREDDIT and record['selftext'] not in ('[removed]', '[deleted]'):\n",
    "                    yield line\n",
    "            except:\n",
    "                pass\n"
   ]
  },
  {
   "cell_type": "code",
   "execution_count": null,
   "id": "7c4ed460-2dd5-45d1-9283-04cabb2120e2",
   "metadata": {},
   "outputs": [],
   "source": [
    "sc.parallelize(glob(f'{REDDIT_SUBMISSION_DIR}/*.zst'))\\\n",
    "    .flatMap(lambda i: load_zstd_tomt_entries_from_file(i))\\\n",
    "    .repartition(100)\\\n",
    "    .saveAsTextFile('reddit-tomt/zstd-files', compressionCodecClass=\"org.apache.hadoop.io.compress.GzipCodec\")"
   ]
  }
 ],
 "metadata": {
  "kernelspec": {
   "display_name": "Python 3",
   "language": "python",
   "name": "python3"
  },
  "language_info": {
   "codemirror_mode": {
    "name": "ipython",
    "version": 3
   },
   "file_extension": ".py",
   "mimetype": "text/x-python",
   "name": "python",
   "nbconvert_exporter": "python",
   "pygments_lexer": "ipython3",
   "version": "3.8.13"
  }
 },
 "nbformat": 4,
 "nbformat_minor": 5
}
