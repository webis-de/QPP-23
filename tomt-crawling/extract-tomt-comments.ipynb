{
 "cells": [
  {
   "cell_type": "code",
   "execution_count": 1,
   "id": "e2f120de-9784-455a-8219-d652b1f2017a",
   "metadata": {},
   "outputs": [
    {
     "data": {
      "text/html": [
       "\n",
       "        <div>\n",
       "            <p><b>SparkContext</b></p>\n",
       "\n",
       "            <p><a href=\"http://10.23.227.128:4040\">Spark UI</a></p>\n",
       "\n",
       "            <dl>\n",
       "              <dt>Version</dt>\n",
       "                <dd><code>v3.2.1</code></dd>\n",
       "              <dt>Master</dt>\n",
       "                <dd><code>yarn</code></dd>\n",
       "              <dt>AppName</dt>\n",
       "                <dd><code>reddit-tomt</code></dd>\n",
       "            </dl>\n",
       "        </div>\n",
       "        "
      ],
      "text/plain": [
       "<SparkContext master=yarn appName=reddit-tomt>"
      ]
     },
     "execution_count": 1,
     "metadata": {},
     "output_type": "execute_result"
    }
   ],
   "source": [
    "from pyspark import SparkConf, SparkContext\n",
    "from glob import glob\n",
    "import sys\n",
    "import json\n",
    "import io\n",
    "from tqdm import tqdm\n",
    "import bz2\n",
    "\n",
    "REDDIT_COMMENTS_DIR = '/mnt/ceph/storage/corpora/corpora-thirdparty/corpus-reddit-public-comments/'\n",
    "DATA_DIR = '/mnt/ceph/storage/data-in-progress/data-research/web-search/false-memories/'\n",
    "SUBREDDIT = 'tipofmytongue'\n",
    "\n",
    "conf=SparkConf()\n",
    "conf.setAll([(\"spark.executor.memory\", '20g'), (\"spark.driver.memory\", '20g')])\n",
    "sc = SparkContext(master=\"yarn\",appName=\"reddit-tomt\",conf=conf)\n",
    "sc"
   ]
  },
  {
   "cell_type": "code",
   "execution_count": 24,
   "id": "90d1d933-b3ab-45fb-a626-1df3b6f1b03d",
   "metadata": {},
   "outputs": [],
   "source": [
    "def load_zstd_tomt_entries_from_file(file_name):\n",
    "    zstandard_lib_path = f'{DATA_DIR}reddit-tomt/virtual-env/lib/python3.8/site-packages/'\n",
    "    if zstandard_lib_path not in sys.path:\n",
    "        sys.path.insert(0, zstandard_lib_path)\n",
    "    import zstandard\n",
    "\n",
    "    with open(file_name,\"rb\") as inf:\n",
    "        dctx = zstandard.ZstdDecompressor(max_window_size=2147483648)\n",
    "        stream_reader = dctx.stream_reader(inf, read_size=16384)\n",
    "        text_stream = io.TextIOWrapper(stream_reader, encoding='utf-8')\n",
    "        for idx, line in enumerate(tqdm(text_stream)):\n",
    "            try:\n",
    "                record = json.loads(line)\n",
    "                #yield record\n",
    "                if record['subreddit'].lower() == SUBREDDIT and 'body' in record and record['body']:\n",
    "                    yield line\n",
    "            except:\n",
    "                pass\n"
   ]
  },
  {
   "cell_type": "code",
   "execution_count": 25,
   "id": "01f7da6c-de8a-4228-aaf6-1157c29ab95a",
   "metadata": {},
   "outputs": [
    {
     "name": "stderr",
     "output_type": "stream",
     "text": [
      "0it [00:00, ?it/s]Exception ignored in: <generator object load_zstd_tomt_entries_from_file at 0x7faa02ba30b0>\n",
      "Traceback (most recent call last):\n",
      "  File \"/tmp/ipykernel_102/1593679532.py\", line 3, in <module>\n",
      "RuntimeError: generator ignored GeneratorExit\n",
      "2365it [00:00, 44776.35it/s]"
     ]
    },
    {
     "name": "stdout",
     "output_type": "stream",
     "text": [
      "{\"edited\":false,\"archived\":false,\"name\":\"t1_cmheoej\",\"body\":\"Damn it. First one I know the answer to and I'm 3 hours late :(\",\"author\":\"UJ95x\",\"score_hidden\":false,\"created_utc\":\"1417392090\",\"subreddit_id\":\"t5_2r4oc\",\"link_id\":\"t3_2nvbc2\",\"id\":\"cmheoej\",\"distinguished\":null,\"downs\":0,\"gilded\":0,\"author_flair_text\":null,\"parent_id\":\"t3_2nvbc2\",\"ups\":17,\"controversiality\":0,\"subreddit\":\"tipofmytongue\",\"score\":17,\"retrieved_on\":1425748654,\"author_flair_css_class\":null}\n",
      "\n"
     ]
    },
    {
     "name": "stderr",
     "output_type": "stream",
     "text": [
      "\n"
     ]
    }
   ],
   "source": [
    "for i in load_zstd_tomt_entries_from_file(REDDIT_COMMENTS_DIR + 'RC_2014-12.zst'):\n",
    "    print(i)\n",
    "    break"
   ]
  },
  {
   "cell_type": "code",
   "execution_count": 26,
   "id": "f878698b-b917-4c5b-ba98-cf7bbc5b1c76",
   "metadata": {},
   "outputs": [],
   "source": [
    "sc.parallelize(glob(f'{REDDIT_COMMENTS_DIR}/*.zst'))\\\n",
    "    .flatMap(lambda i: load_zstd_tomt_entries_from_file(i))\\\n",
    "    .repartition(100)\\\n",
    "    .saveAsTextFile('reddit-tomt/zstd-comments-files', compressionCodecClass=\"org.apache.hadoop.io.compress.GzipCodec\")"
   ]
  }
 ],
 "metadata": {
  "kernelspec": {
   "display_name": "Python 3",
   "language": "python",
   "name": "python3"
  },
  "language_info": {
   "codemirror_mode": {
    "name": "ipython",
    "version": 3
   },
   "file_extension": ".py",
   "mimetype": "text/x-python",
   "name": "python",
   "nbconvert_exporter": "python",
   "pygments_lexer": "ipython3",
   "version": "3.8.13"
  }
 },
 "nbformat": 4,
 "nbformat_minor": 5
}
